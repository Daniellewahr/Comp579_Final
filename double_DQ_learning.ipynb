{
 "cells": [
  {
   "cell_type": "code",
   "execution_count": 1,
   "id": "c470b284-665c-42f4-86f0-cb0842a90387",
   "metadata": {},
   "outputs": [],
   "source": [
    "from game import Game\n",
    "import numpy as np\n",
    "import random\n",
    "import sys\n",
    "import torch.nn as nn\n",
    "import torch\n",
    "import torch.optim as optim\n",
    "# from DeepQ_learning import Net, play_game, random_play\n",
    "from DQN_CNN import one_hot_encode_game_state, Net"
   ]
  },
  {
   "cell_type": "code",
   "execution_count": 4,
   "id": "f7b13727-d517-4b59-a137-456bbfb321da",
   "metadata": {},
   "outputs": [],
   "source": []
  },
  {
   "cell_type": "code",
   "execution_count": 2,
   "id": "38b8588d-2350-4d1d-9528-0a851e22702a",
   "metadata": {},
   "outputs": [],
   "source": [
    "batch_size = 128\n",
    "n_epoch = 1000\n",
    "n_eval = 100\n",
    "gamma = 1\n",
    "epsilon = 0.2\n",
    "\n",
    "input_shape = (16, 4, 4)  # Replace with the actual shape of the game state\n",
    "num_actions = 4  # Replace with the actual number of actions in the game\n",
    "n_epoch = 1000\n",
    "n_eval = 100\n",
    "SEED = 1234\n",
    "    \n",
    "SEED = 1234\n",
    "random.seed(SEED)\n",
    "np.random.seed(SEED)\n",
    "torch.cuda.manual_seed(SEED)\n",
    "torch.manual_seed(SEED)\n",
    "torch.backends.cudnn.deterministic = True\n",
    "\n",
    "device = torch.device(\"cuda\" if torch.cuda.is_available() else \"cpu\")\n",
    "\n",
    "def get_model(input_shape, num_actions):\n",
    "    model = Net(input_shape, num_actions).to(device)\n",
    "    optimizer = optim.Adam(model.parameters())\n",
    "    criterion = nn.MSELoss().to(device)\n",
    "    \n",
    "    return model, optimizer, criterion\n",
    "\n",
    "model1, optimizer1, criterion1 = get_model(input_shape, num_actions)\n",
    "model2, optimizer2, criterion2 = get_model(input_shape, num_actions)\n",
    "\n",
    "losses1 = []\n",
    "losses2 = []"
   ]
  },
  {
   "cell_type": "code",
   "execution_count": 3,
   "id": "3d5f091b-d497-4328-92ae-a87db96b8ab0",
   "metadata": {},
   "outputs": [],
   "source": [
    "def choose_best_action(Q, epsilon=0.2):\n",
    "    Q_np = np.array([q.item() if hasattr(q, 'item') else q for q in Q])\n",
    "    Q_np[Q_np == -np.inf] = np.nan\n",
    "    valid_indices = np.where(~np.isnan(Q_np))[0]\n",
    "    return np.random.choice(valid_indices) if np.random.rand() < epsilon else np.argmax(Q)"
   ]
  },
  {
   "cell_type": "code",
   "execution_count": 47,
   "id": "f858e7a0-92ca-4f0a-8d96-183652c23797",
   "metadata": {},
   "outputs": [],
   "source": [
    "def train_game(game, it):\n",
    "    global losses\n",
    "    batch1_label, batch1_output = [], []\n",
    "    batch2_label, batch2_output = [], []\n",
    "    step = 1\n",
    "    while True:\n",
    "        state = one_hot_encode_game_state(game.state()).unsqueeze(0).permute(0, 3, 1, 2).to(device)\n",
    "        Q1_values = model1(state)\n",
    "        Q2_values = model2(state)\n",
    "\n",
    "        Q1_valid_values = [Q1_values[0][a] if game.is_action_available(a) else float('-inf') for a in range(4)]\n",
    "        Q2_valid_values = [Q2_values[0][a] if game.is_action_available(a) else float('-inf') for a in range(4)]\n",
    "\n",
    "        Q_valid = np.array(Q1_valid_values) + np.array(Q2_valid_values)\n",
    "        \n",
    "        best_action = choose_best_action(Q_valid,epsilon=epsilon)\n",
    "        reward = game.do_action(best_action)\n",
    "        new_state = one_hot_encode_game_state(game.state()).unsqueeze(0).permute(0, 3, 1, 2).to(device)\n",
    "\n",
    "        if np.random.rand() < 0.5:\n",
    "            model = model1\n",
    "            optimizer = optimizer1\n",
    "            criterion = criterion1\n",
    "            Q_valid_values = Q1_valid_values\n",
    "            batch_outputs = batch1_output\n",
    "            batch_labels = batch1_label\n",
    "            losses = losses1\n",
    "        else:\n",
    "            model = model2\n",
    "            optimizer = optimizer2\n",
    "            criterion = criterion2\n",
    "            Q_valid_values = Q2_valid_values\n",
    "            batch_outputs = batch2_output\n",
    "            batch_labels = batch2_label\n",
    "            losses = losses2\n",
    "\n",
    "        Q_star = Q_valid_values[best_action]\n",
    "        \n",
    "        with torch.no_grad():\n",
    "            Q_next = model(new_state)\n",
    "            \n",
    "        batch_outputs.append(Q_star)\n",
    "        batch_labels.append(reward + gamma * torch.max(Q_next).item())   \n",
    "\n",
    "\n",
    "        if step % batch_size == 0 or game.game_over():\n",
    "            if len(batch_labels) == 0:\n",
    "                continue\n",
    "            optimizer.zero_grad()\n",
    "            label_tensor = torch.tensor(batch_labels, dtype=torch.float32).to(device)\n",
    "            output_tensor = torch.stack(batch_outputs).to(device)  # Stack tensors directly\n",
    "            batch_outputs.clear()\n",
    "            batch_labels.clear()\n",
    "            loss = criterion(output_tensor, label_tensor)\n",
    "            loss.backward()\n",
    "            optimizer.step()\n",
    "            losses.append(loss.item())\n",
    "\n",
    "            if game.game_over():\n",
    "                print(\"epoch: {}, game score: {}\".format(it, game.score()))\n",
    "                return\n",
    "        \n",
    "        step += 1"
   ]
  },
  {
   "cell_type": "code",
   "execution_count": null,
   "id": "3835751a",
   "metadata": {},
   "outputs": [],
   "source": []
  },
  {
   "cell_type": "code",
   "execution_count": 51,
   "id": "972b6408-63a6-4e49-802f-c7f3e1b3584c",
   "metadata": {},
   "outputs": [],
   "source": [
    "def eval_game(game, scores):\n",
    "    model1.eval()\n",
    "    model2.eval()\n",
    "\n",
    "    with torch.no_grad():\n",
    "        for i in range(n_eval):\n",
    "            game = Game()\n",
    "            while not game.game_over():\n",
    "                state = one_hot_encode_game_state(game.state()).unsqueeze(0).permute(0, 3, 1, 2).to(device)\n",
    "                Q1_values = model1(state)\n",
    "                Q2_values = model2(state)\n",
    "\n",
    "                Q1_valid_values = [Q1_values[0][a] if game.is_action_available(a) else float('-inf') for a in range(4)]\n",
    "                Q2_valid_values = [Q2_values[0][a] if game.is_action_available(a) else float('-inf') for a in range(4)]\n",
    "\n",
    "                Q_valid = np.array(Q1_valid_values) + np.array(Q2_valid_values)\n",
    "                \n",
    "                best_action = choose_best_action(Q_valid,epsilon=epsilon)\n",
    "\n",
    "\n",
    "                game.do_action(best_action)\n",
    "            print(\"game score: {}\".format(game.score()))\n",
    "            scores.append(game.score())"
   ]
  },
  {
   "cell_type": "code",
   "execution_count": 53,
   "id": "de9a2201-e5be-4ce0-ad4e-be3fa621d673",
   "metadata": {},
   "outputs": [
    {
     "name": "stdout",
     "output_type": "stream",
     "text": [
      "the mean of the score is 1518.88\n"
     ]
    }
   ],
   "source": [
    "\n",
    "\n",
    "model1.train()\n",
    "model2.train()\n",
    "\n",
    "scores = []\n",
    "for it in range(n_epoch):\n",
    "    game = Game()\n",
    "    train_game(game, it)\n",
    "eval_game(game,scores)\n",
    "print(\"the mean of the score is {}\".format(np.mean(scores)))"
   ]
  },
  {
   "cell_type": "code",
   "execution_count": 16,
   "id": "dd9e919c-045e-4313-8845-c7b2ac930d25",
   "metadata": {},
   "outputs": [],
   "source": [
    "game = Game()"
   ]
  },
  {
   "cell_type": "code",
   "execution_count": 15,
   "id": "68c8b732-3889-4949-a707-872d04efe198",
   "metadata": {},
   "outputs": [
    {
     "data": {
      "text/plain": [
       "int"
      ]
     },
     "execution_count": 15,
     "metadata": {},
     "output_type": "execute_result"
    }
   ],
   "source": []
  },
  {
   "cell_type": "code",
   "execution_count": null,
   "id": "79a14457-46a3-4b55-ae99-b1b1b5aca990",
   "metadata": {},
   "outputs": [],
   "source": []
  },
  {
   "cell_type": "code",
   "execution_count": null,
   "id": "cae315a5-8c0f-4523-b7c3-51e539375702",
   "metadata": {},
   "outputs": [],
   "source": []
  },
  {
   "cell_type": "code",
   "execution_count": null,
   "id": "0bd35d3c",
   "metadata": {},
   "outputs": [],
   "source": []
  },
  {
   "cell_type": "code",
   "execution_count": null,
   "id": "2310ef34",
   "metadata": {},
   "outputs": [],
   "source": []
  },
  {
   "cell_type": "code",
   "execution_count": null,
   "id": "b6168383",
   "metadata": {},
   "outputs": [],
   "source": []
  },
  {
   "cell_type": "code",
   "execution_count": null,
   "id": "2ebac4e9",
   "metadata": {},
   "outputs": [],
   "source": []
  },
  {
   "cell_type": "code",
   "execution_count": null,
   "id": "dcca1a5e",
   "metadata": {},
   "outputs": [],
   "source": []
  },
  {
   "cell_type": "code",
   "execution_count": null,
   "id": "e3540016",
   "metadata": {},
   "outputs": [],
   "source": []
  },
  {
   "cell_type": "code",
   "execution_count": null,
   "id": "40dd7b19",
   "metadata": {},
   "outputs": [],
   "source": [
    "if np.random.rand() < 0.5:\n",
    "        model = model1\n",
    "        optimizer = optimizer1\n",
    "        criterion = criterion1\n",
    "        Q_valid_values = Q1_valid_values\n",
    "        batch_output = batch1_output\n",
    "        batch_label = batch1_label\n",
    "        losses = losses1\n",
    "    else:\n",
    "        model = model2\n",
    "        optimizer = optimizer2\n",
    "        criterion = criterion2\n",
    "        Q_valid_values = Q2_valid_values\n",
    "        batch_output = batch2_output\n",
    "        batch_label = batch2_label\n",
    "        losses = losses2\n",
    "\n",
    "    Q_star = Q_valid_values[best_action]\n",
    "    if Q_star == -np.inf:\n",
    "        print(\"SHOULD NOT HAPPEN\")\n",
    "    \n",
    "    with torch.no_grad():\n",
    "        Q_next = model(vec)\n",
    "    \n",
    "    batch_output.append(Q_star)\n",
    "    batch_label.append(reward + gamma * max(Q_next))\n",
    "    \n",
    "    if step % batch_size == 0 or game.game_over():\n",
    "        if len(batch_label) == 0:\n",
    "            continue\n",
    "        optimizer.zero_grad()\n",
    "        label_tensor = torch.stack(batch_label)\n",
    "        output_tensor = torch.stack(batch_output)\n",
    "        batch_output.clear()\n",
    "        batch_label.clear()\n",
    "        loss = criterion(output_tensor, label_tensor)\n",
    "        loss.backward()\n",
    "        optimizer.step()\n",
    "        losses.append(loss.item())"
   ]
  }
 ],
 "metadata": {
  "kernelspec": {
   "display_name": "Python 3.8.19 64-bit ('RL_final')",
   "language": "python",
   "name": "python3"
  },
  "language_info": {
   "codemirror_mode": {
    "name": "ipython",
    "version": 3
   },
   "file_extension": ".py",
   "mimetype": "text/x-python",
   "name": "python",
   "nbconvert_exporter": "python",
   "pygments_lexer": "ipython3",
   "version": "3.8.19"
  },
  "vscode": {
   "interpreter": {
    "hash": "9ca64a520f3b151f324624685b7edeab73e33605959bf9aec8d78242fefac9d0"
   }
  }
 },
 "nbformat": 4,
 "nbformat_minor": 5
}
